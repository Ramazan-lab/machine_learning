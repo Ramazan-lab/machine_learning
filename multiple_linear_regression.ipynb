{
  "cells": [
    {
      "cell_type": "markdown",
      "metadata": {
        "id": "view-in-github",
        "colab_type": "text"
      },
      "source": [
        "<a href=\"https://colab.research.google.com/github/Ramazan-lab/machine_learning/blob/main/multiple_linear_regression.ipynb\" target=\"_parent\"><img src=\"https://colab.research.google.com/assets/colab-badge.svg\" alt=\"Open In Colab\"/></a>"
      ]
    },
    {
      "cell_type": "code",
      "execution_count": null,
      "metadata": {
        "id": "MRqAsQs6DLUm"
      },
      "outputs": [],
      "source": [
        "import pandas as pd\n",
        "import numpy as np\n",
        "import matplotlib.pyplot as plt\n",
        "from sklearn.linear_model import LinearRegression"
      ]
    },
    {
      "cell_type": "code",
      "execution_count": 21,
      "metadata": {
        "id": "X6qf1SmvDLUt",
        "colab": {
          "base_uri": "https://localhost:8080/",
          "height": 279
        },
        "outputId": "762215a4-4f8e-4563-e1d3-b0491579383c"
      },
      "outputs": [
        {
          "output_type": "display_data",
          "data": {
            "text/plain": [
              "<Figure size 432x288 with 1 Axes>"
            ],
            "image/png": "[encoded data removed]"
          },
          "metadata": {
            "needs_background": "light"
          }
        }
      ],
      "source": [
        "df = pd.read_csv(\"multiple-linear-regression-dataset.csv\",sep = \";\")\n",
        "\n",
        "x = df.iloc[:,[1,2]].values\n",
        "y = df.experience.values.reshape(-1,1)\n",
        "\n",
        "#plt.scatter(x,y)\n",
        "#plt.xlabel(\"salary, age\")\n",
        "#plt.ylabel(\"experience\")\n",
        "#plt.show()"
      ]
    },
    {
      "cell_type": "code",
      "execution_count": null,
      "metadata": {
        "colab": {
          "base_uri": "https://localhost:8080/"
        },
        "id": "SIMhL8jsDLUu",
        "outputId": "da3c28df-e300-4aa5-b66d-88ee8b4634cd"
      },
      "outputs": [
        {
          "output_type": "stream",
          "name": "stdout",
          "text": [
            "b0:  [-10.02090668]\n",
            "b1,b2:  [[0.00051146 0.44100042]]\n"
          ]
        }
      ],
      "source": [
        "# %% fitting data\n",
        "multiple_linear_regression = LinearRegression()\n",
        "multiple_linear_regression.fit(x,y)\n",
        "\n",
        "print(\"b0: \", multiple_linear_regression.intercept_)\n",
        "print(\"b1,b2: \",multiple_linear_regression.coef_)\n",
        "\n"
      ]
    },
    {
      "cell_type": "code",
      "execution_count": null,
      "metadata": {
        "colab": {
          "base_uri": "https://localhost:8080/"
        },
        "id": "KP0NENNvDLUv",
        "outputId": "eb9c593b-1df8-42b5-d72d-7b14d0cfcfde"
      },
      "outputs": [
        {
          "output_type": "execute_result",
          "data": {
            "text/plain": [
              "array([[5.41922255],\n",
              "       [5.41666525]])"
            ]
          },
          "metadata": {},
          "execution_count": 19
        }
      ],
      "source": [
        "# predict\n",
        "multiple_linear_regression.predict(np.array([[10,35],[5,35]]))"
      ]
    },
    {
      "cell_type": "code",
      "source": [
        ""
      ],
      "metadata": {
        "id": "ulAq5h9uE2l_"
      },
      "execution_count": null,
      "outputs": []
    }
  ],
  "metadata": {
    "kernelspec": {
      "display_name": "Python 3",
      "language": "python",
      "name": "python3"
    },
    "language_info": {
      "codemirror_mode": {
        "name": "ipython",
        "version": 3
      },
      "file_extension": ".py",
      "mimetype": "text/x-python",
      "name": "python",
      "nbconvert_exporter": "python",
      "pygments_lexer": "ipython3",
      "version": "3.7.2"
    },
    "colab": {
      "name": "multiple-linear-regression.ipynb",
      "provenance": [],
      "include_colab_link": true
    }
  },
  "nbformat": 4,
  "nbformat_minor": 0
}